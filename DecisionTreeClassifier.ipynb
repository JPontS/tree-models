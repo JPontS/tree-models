{
 "cells": [
  {
   "cell_type": "code",
   "execution_count": 1,
   "id": "4d21ff24-8c92-49e5-bf13-474952ad0592",
   "metadata": {
    "execution": {
     "iopub.execute_input": "2025-02-21T19:46:12.700399Z",
     "iopub.status.busy": "2025-02-21T19:46:12.700121Z",
     "iopub.status.idle": "2025-02-21T19:46:13.209569Z",
     "shell.execute_reply": "2025-02-21T19:46:13.209284Z",
     "shell.execute_reply.started": "2025-02-21T19:46:12.700378Z"
    }
   },
   "outputs": [],
   "source": [
    "import pandas as pd\n",
    "import numpy as np\n",
    "from sklearn.datasets import load_iris, fetch_california_housing\n",
    "from sklearn.model_selection import train_test_split\n",
    "from sklearn.metrics import confusion_matrix\n",
    "\n",
    "from tree_models import DecisionTreeClassifier"
   ]
  },
  {
   "cell_type": "markdown",
   "id": "de1e366c-98a3-454e-948e-e74b7f8c1721",
   "metadata": {},
   "source": [
    "# Explore DecisionTreeClassifier"
   ]
  },
  {
   "cell_type": "code",
   "execution_count": 2,
   "id": "c02b367e-4467-41ee-894e-16e164d3a4a3",
   "metadata": {
    "execution": {
     "iopub.execute_input": "2025-02-21T19:46:13.210143Z",
     "iopub.status.busy": "2025-02-21T19:46:13.209998Z",
     "iopub.status.idle": "2025-02-21T19:46:13.213227Z",
     "shell.execute_reply": "2025-02-21T19:46:13.213045Z",
     "shell.execute_reply.started": "2025-02-21T19:46:13.210136Z"
    }
   },
   "outputs": [],
   "source": [
    "iris = load_iris() "
   ]
  },
  {
   "cell_type": "code",
   "execution_count": 3,
   "id": "de34dafc-8989-4a61-a878-9ada6765340c",
   "metadata": {
    "execution": {
     "iopub.execute_input": "2025-02-21T19:46:13.214194Z",
     "iopub.status.busy": "2025-02-21T19:46:13.214124Z",
     "iopub.status.idle": "2025-02-21T19:46:13.215736Z",
     "shell.execute_reply": "2025-02-21T19:46:13.215546Z",
     "shell.execute_reply.started": "2025-02-21T19:46:13.214188Z"
    }
   },
   "outputs": [],
   "source": [
    "X_train, X_test, y_train, y_test = train_test_split(iris['data'], iris['target'], test_size=0.2)"
   ]
  },
  {
   "cell_type": "code",
   "execution_count": 4,
   "id": "e32c03a9-ad98-47f4-8a63-a60f69ce3e9c",
   "metadata": {
    "execution": {
     "iopub.execute_input": "2025-02-21T19:46:13.216058Z",
     "iopub.status.busy": "2025-02-21T19:46:13.216001Z",
     "iopub.status.idle": "2025-02-21T19:46:13.219073Z",
     "shell.execute_reply": "2025-02-21T19:46:13.218897Z",
     "shell.execute_reply.started": "2025-02-21T19:46:13.216052Z"
    },
    "scrolled": true
   },
   "outputs": [
    {
     "data": {
      "text/plain": [
       "array([[5.5, 2.5, 4. , 1.3],\n",
       "       [7.2, 3.6, 6.1, 2.5],\n",
       "       [5. , 3.3, 1.4, 0.2],\n",
       "       [5.8, 2.7, 5.1, 1.9],\n",
       "       [5.1, 3.5, 1.4, 0.2],\n",
       "       [6. , 2.2, 5. , 1.5],\n",
       "       [5.7, 4.4, 1.5, 0.4],\n",
       "       [7.3, 2.9, 6.3, 1.8],\n",
       "       [6.7, 2.5, 5.8, 1.8],\n",
       "       [6.9, 3.2, 5.7, 2.3],\n",
       "       [6.1, 2.6, 5.6, 1.4],\n",
       "       [5.4, 3. , 4.5, 1.5],\n",
       "       [5.4, 3.9, 1.3, 0.4],\n",
       "       [7.9, 3.8, 6.4, 2. ],\n",
       "       [5.8, 2.7, 3.9, 1.2],\n",
       "       [6.3, 3.3, 6. , 2.5],\n",
       "       [7.7, 2.6, 6.9, 2.3],\n",
       "       [4.6, 3.4, 1.4, 0.3],\n",
       "       [5.1, 2.5, 3. , 1.1],\n",
       "       [5.6, 2.7, 4.2, 1.3],\n",
       "       [5.8, 4. , 1.2, 0.2],\n",
       "       [6. , 3. , 4.8, 1.8],\n",
       "       [5. , 2. , 3.5, 1. ],\n",
       "       [4.5, 2.3, 1.3, 0.3],\n",
       "       [6.6, 3. , 4.4, 1.4],\n",
       "       [5.2, 4.1, 1.5, 0.1],\n",
       "       [5. , 3. , 1.6, 0.2],\n",
       "       [4.8, 3.4, 1.6, 0.2],\n",
       "       [5.1, 3.5, 1.4, 0.3],\n",
       "       [5.1, 3.7, 1.5, 0.4],\n",
       "       [5.8, 2.6, 4. , 1.2],\n",
       "       [5.1, 3.8, 1.6, 0.2],\n",
       "       [6.3, 3.3, 4.7, 1.6],\n",
       "       [7.2, 3.2, 6. , 1.8],\n",
       "       [6.9, 3.1, 5.4, 2.1],\n",
       "       [4.3, 3. , 1.1, 0.1],\n",
       "       [6.1, 3. , 4.6, 1.4],\n",
       "       [7.1, 3. , 5.9, 2.1],\n",
       "       [5.3, 3.7, 1.5, 0.2],\n",
       "       [4.7, 3.2, 1.3, 0.2],\n",
       "       [6.9, 3.1, 5.1, 2.3],\n",
       "       [4.4, 2.9, 1.4, 0.2],\n",
       "       [6.8, 2.8, 4.8, 1.4],\n",
       "       [6.7, 3.3, 5.7, 2.5],\n",
       "       [7. , 3.2, 4.7, 1.4],\n",
       "       [5.7, 2.9, 4.2, 1.3],\n",
       "       [5. , 3.4, 1.6, 0.4],\n",
       "       [4.9, 3.6, 1.4, 0.1],\n",
       "       [4.4, 3. , 1.3, 0.2],\n",
       "       [5. , 3.5, 1.6, 0.6],\n",
       "       [7.7, 3.8, 6.7, 2.2],\n",
       "       [5.4, 3.4, 1.5, 0.4],\n",
       "       [5.5, 4.2, 1.4, 0.2],\n",
       "       [7.2, 3. , 5.8, 1.6],\n",
       "       [6.1, 2.9, 4.7, 1.4],\n",
       "       [5.7, 2.8, 4.5, 1.3],\n",
       "       [6.3, 2.9, 5.6, 1.8],\n",
       "       [5. , 3.4, 1.5, 0.2],\n",
       "       [6.7, 3. , 5.2, 2.3],\n",
       "       [4.9, 2.4, 3.3, 1. ],\n",
       "       [7.7, 3. , 6.1, 2.3],\n",
       "       [6.7, 3.1, 4.4, 1.4],\n",
       "       [6.9, 3.1, 4.9, 1.5],\n",
       "       [7.7, 2.8, 6.7, 2. ],\n",
       "       [6.4, 3.2, 4.5, 1.5],\n",
       "       [4.8, 3. , 1.4, 0.3],\n",
       "       [6.7, 3.1, 5.6, 2.4],\n",
       "       [6.4, 3.1, 5.5, 1.8],\n",
       "       [5.8, 2.7, 4.1, 1. ],\n",
       "       [4.8, 3. , 1.4, 0.1],\n",
       "       [4.8, 3.4, 1.9, 0.2],\n",
       "       [5.4, 3.4, 1.7, 0.2],\n",
       "       [6.3, 3.4, 5.6, 2.4],\n",
       "       [5.7, 2.6, 3.5, 1. ],\n",
       "       [5.1, 3.3, 1.7, 0.5],\n",
       "       [6.4, 2.7, 5.3, 1.9],\n",
       "       [5. , 3.2, 1.2, 0.2],\n",
       "       [6.3, 2.8, 5.1, 1.5],\n",
       "       [5.6, 3. , 4.5, 1.5],\n",
       "       [6.4, 2.8, 5.6, 2.1],\n",
       "       [6.8, 3.2, 5.9, 2.3],\n",
       "       [5.8, 2.8, 5.1, 2.4],\n",
       "       [6.4, 3.2, 5.3, 2.3],\n",
       "       [6.6, 2.9, 4.6, 1.3],\n",
       "       [6.7, 3. , 5. , 1.7],\n",
       "       [5.7, 3.8, 1.7, 0.3],\n",
       "       [4.6, 3.1, 1.5, 0.2],\n",
       "       [4.9, 3.1, 1.5, 0.2],\n",
       "       [5.5, 2.3, 4. , 1.3],\n",
       "       [5.9, 3. , 4.2, 1.5],\n",
       "       [6. , 2.2, 4. , 1. ],\n",
       "       [6.2, 3.4, 5.4, 2.3],\n",
       "       [7.4, 2.8, 6.1, 1.9],\n",
       "       [5.2, 3.4, 1.4, 0.2],\n",
       "       [6.3, 2.7, 4.9, 1.8],\n",
       "       [6.5, 3. , 5.8, 2.2],\n",
       "       [6.5, 3. , 5.5, 1.8],\n",
       "       [4.6, 3.6, 1. , 0.2],\n",
       "       [4.9, 3.1, 1.5, 0.1],\n",
       "       [6.7, 3.3, 5.7, 2.1],\n",
       "       [6. , 3.4, 4.5, 1.6],\n",
       "       [5.5, 2.6, 4.4, 1.2],\n",
       "       [5.2, 2.7, 3.9, 1.4],\n",
       "       [6. , 2.9, 4.5, 1.5],\n",
       "       [5.1, 3.4, 1.5, 0.2],\n",
       "       [4.4, 3.2, 1.3, 0.2],\n",
       "       [5. , 3.6, 1.4, 0.2],\n",
       "       [6.1, 2.8, 4.7, 1.2],\n",
       "       [4.9, 3. , 1.4, 0.2],\n",
       "       [6.5, 3.2, 5.1, 2. ],\n",
       "       [5.6, 2.9, 3.6, 1.3],\n",
       "       [6.5, 2.8, 4.6, 1.5],\n",
       "       [5.6, 2.5, 3.9, 1.1],\n",
       "       [5.7, 2.8, 4.1, 1.3],\n",
       "       [5. , 3.5, 1.3, 0.3],\n",
       "       [6.7, 3.1, 4.7, 1.5],\n",
       "       [6.2, 2.2, 4.5, 1.5],\n",
       "       [5.4, 3.9, 1.7, 0.4],\n",
       "       [7.6, 3. , 6.6, 2.1],\n",
       "       [5.8, 2.7, 5.1, 1.9]])"
      ]
     },
     "execution_count": 4,
     "metadata": {},
     "output_type": "execute_result"
    }
   ],
   "source": [
    "X_train"
   ]
  },
  {
   "cell_type": "code",
   "execution_count": 5,
   "id": "2b3dc025-684c-453f-ae5e-241575ea2ce1",
   "metadata": {
    "execution": {
     "iopub.execute_input": "2025-02-21T19:46:13.219490Z",
     "iopub.status.busy": "2025-02-21T19:46:13.219396Z",
     "iopub.status.idle": "2025-02-21T19:46:13.221144Z",
     "shell.execute_reply": "2025-02-21T19:46:13.220974Z",
     "shell.execute_reply.started": "2025-02-21T19:46:13.219484Z"
    }
   },
   "outputs": [
    {
     "data": {
      "text/plain": [
       "array([1, 2, 0, 2, 0, 2, 0, 2, 2, 2, 2, 1, 0, 2, 1, 2, 2, 0, 1, 1, 0, 2,\n",
       "       1, 0, 1, 0, 0, 0, 0, 0, 1, 0, 1, 2, 2, 0, 1, 2, 0, 0, 2, 0, 1, 2,\n",
       "       1, 1, 0, 0, 0, 0, 2, 0, 0, 2, 1, 1, 2, 0, 2, 1, 2, 1, 1, 2, 1, 0,\n",
       "       2, 2, 1, 0, 0, 0, 2, 1, 0, 2, 0, 2, 1, 2, 2, 2, 2, 1, 1, 0, 0, 0,\n",
       "       1, 1, 1, 2, 2, 0, 2, 2, 2, 0, 0, 2, 1, 1, 1, 1, 0, 0, 0, 1, 0, 2,\n",
       "       1, 1, 1, 1, 0, 1, 1, 0, 2, 2])"
      ]
     },
     "execution_count": 5,
     "metadata": {},
     "output_type": "execute_result"
    }
   ],
   "source": [
    "y_train"
   ]
  },
  {
   "cell_type": "code",
   "execution_count": 6,
   "id": "c476fc9f-27c3-4dbd-9796-de132a4f5cd9",
   "metadata": {
    "execution": {
     "iopub.execute_input": "2025-02-21T19:46:13.221469Z",
     "iopub.status.busy": "2025-02-21T19:46:13.221405Z",
     "iopub.status.idle": "2025-02-21T19:46:13.222761Z",
     "shell.execute_reply": "2025-02-21T19:46:13.222589Z",
     "shell.execute_reply.started": "2025-02-21T19:46:13.221462Z"
    }
   },
   "outputs": [],
   "source": [
    "dt = DecisionTreeClassifier(10, 2)"
   ]
  },
  {
   "cell_type": "code",
   "execution_count": 7,
   "id": "17fe78d3-946e-4a4c-a6b7-b0d8789d70e3",
   "metadata": {
    "execution": {
     "iopub.execute_input": "2025-02-21T19:46:13.223081Z",
     "iopub.status.busy": "2025-02-21T19:46:13.223029Z",
     "iopub.status.idle": "2025-02-21T19:46:13.224529Z",
     "shell.execute_reply": "2025-02-21T19:46:13.224374Z",
     "shell.execute_reply.started": "2025-02-21T19:46:13.223076Z"
    }
   },
   "outputs": [
    {
     "name": "stdout",
     "output_type": "stream",
     "text": [
      "build_tree\n",
      "compute_entropy\n",
      "compute_gini\n",
      "compute_information_gain\n",
      "compute_leaf_value\n",
      "criterion\n",
      "fit\n",
      "get_best_split\n",
      "make_prediction\n",
      "make_split\n",
      "max_depth\n",
      "min_samples_split\n",
      "n_cuts\n",
      "predict\n",
      "print_tree\n",
      "root\n"
     ]
    }
   ],
   "source": [
    "for method in dir(dt):\n",
    "    if not method.startswith('__'):\n",
    "        print(method)"
   ]
  },
  {
   "cell_type": "code",
   "execution_count": 8,
   "id": "4cb8f6a8-6f0b-4fb9-bf32-f05327dfa829",
   "metadata": {
    "execution": {
     "iopub.execute_input": "2025-02-21T19:46:13.224844Z",
     "iopub.status.busy": "2025-02-21T19:46:13.224793Z",
     "iopub.status.idle": "2025-02-21T19:46:13.230139Z",
     "shell.execute_reply": "2025-02-21T19:46:13.229922Z",
     "shell.execute_reply.started": "2025-02-21T19:46:13.224838Z"
    }
   },
   "outputs": [],
   "source": [
    "dt.fit(X_train, y_train)"
   ]
  },
  {
   "cell_type": "code",
   "execution_count": 9,
   "id": "4b1d5b9e-009c-4c5d-9f34-65fa3cc1e9dd",
   "metadata": {
    "execution": {
     "iopub.execute_input": "2025-02-21T19:46:13.230603Z",
     "iopub.status.busy": "2025-02-21T19:46:13.230547Z",
     "iopub.status.idle": "2025-02-21T19:46:13.232764Z",
     "shell.execute_reply": "2025-02-21T19:46:13.232363Z",
     "shell.execute_reply.started": "2025-02-21T19:46:13.230597Z"
    }
   },
   "outputs": [
    {
     "data": {
      "text/plain": [
       "<tree_models.Node at 0x12fddf9e0>"
      ]
     },
     "execution_count": 9,
     "metadata": {},
     "output_type": "execute_result"
    }
   ],
   "source": [
    "dt.root.right_node"
   ]
  },
  {
   "cell_type": "code",
   "execution_count": 10,
   "id": "99e58188-6929-4869-a68a-9f691054fded",
   "metadata": {
    "execution": {
     "iopub.execute_input": "2025-02-21T19:46:13.233681Z",
     "iopub.status.busy": "2025-02-21T19:46:13.233577Z",
     "iopub.status.idle": "2025-02-21T19:46:13.236103Z",
     "shell.execute_reply": "2025-02-21T19:46:13.235557Z",
     "shell.execute_reply.started": "2025-02-21T19:46:13.233673Z"
    }
   },
   "outputs": [],
   "source": [
    "dataset_left, dataset_right, y_left, y_right =  dt.make_split(X_train, y_train, 0, 5.5)"
   ]
  },
  {
   "cell_type": "code",
   "execution_count": 11,
   "id": "64c876b2-4aec-4b57-9fa7-e474fcd804d7",
   "metadata": {
    "execution": {
     "iopub.execute_input": "2025-02-21T19:46:13.237009Z",
     "iopub.status.busy": "2025-02-21T19:46:13.236793Z",
     "iopub.status.idle": "2025-02-21T19:46:13.241717Z",
     "shell.execute_reply": "2025-02-21T19:46:13.241507Z",
     "shell.execute_reply.started": "2025-02-21T19:46:13.236982Z"
    }
   },
   "outputs": [
    {
     "data": {
      "text/plain": [
       "{'feature_index': 2,\n",
       " 'threshold': 2.311111111111111,\n",
       " 'dataset_left': array([[5. , 3.3, 1.4, 0.2],\n",
       "        [5.1, 3.5, 1.4, 0.2],\n",
       "        [5.7, 4.4, 1.5, 0.4],\n",
       "        [5.4, 3.9, 1.3, 0.4],\n",
       "        [4.6, 3.4, 1.4, 0.3],\n",
       "        [5.8, 4. , 1.2, 0.2],\n",
       "        [4.5, 2.3, 1.3, 0.3],\n",
       "        [5.2, 4.1, 1.5, 0.1],\n",
       "        [5. , 3. , 1.6, 0.2],\n",
       "        [4.8, 3.4, 1.6, 0.2],\n",
       "        [5.1, 3.5, 1.4, 0.3],\n",
       "        [5.1, 3.7, 1.5, 0.4],\n",
       "        [5.1, 3.8, 1.6, 0.2],\n",
       "        [4.3, 3. , 1.1, 0.1],\n",
       "        [5.3, 3.7, 1.5, 0.2],\n",
       "        [4.7, 3.2, 1.3, 0.2],\n",
       "        [4.4, 2.9, 1.4, 0.2],\n",
       "        [5. , 3.4, 1.6, 0.4],\n",
       "        [4.9, 3.6, 1.4, 0.1],\n",
       "        [4.4, 3. , 1.3, 0.2],\n",
       "        [5. , 3.5, 1.6, 0.6],\n",
       "        [5.4, 3.4, 1.5, 0.4],\n",
       "        [5.5, 4.2, 1.4, 0.2],\n",
       "        [5. , 3.4, 1.5, 0.2],\n",
       "        [4.8, 3. , 1.4, 0.3],\n",
       "        [4.8, 3. , 1.4, 0.1],\n",
       "        [4.8, 3.4, 1.9, 0.2],\n",
       "        [5.4, 3.4, 1.7, 0.2],\n",
       "        [5.1, 3.3, 1.7, 0.5],\n",
       "        [5. , 3.2, 1.2, 0.2],\n",
       "        [5.7, 3.8, 1.7, 0.3],\n",
       "        [4.6, 3.1, 1.5, 0.2],\n",
       "        [4.9, 3.1, 1.5, 0.2],\n",
       "        [5.2, 3.4, 1.4, 0.2],\n",
       "        [4.6, 3.6, 1. , 0.2],\n",
       "        [4.9, 3.1, 1.5, 0.1],\n",
       "        [5.1, 3.4, 1.5, 0.2],\n",
       "        [4.4, 3.2, 1.3, 0.2],\n",
       "        [5. , 3.6, 1.4, 0.2],\n",
       "        [4.9, 3. , 1.4, 0.2],\n",
       "        [5. , 3.5, 1.3, 0.3],\n",
       "        [5.4, 3.9, 1.7, 0.4]]),\n",
       " 'dataset_right': array([[5.5, 2.5, 4. , 1.3],\n",
       "        [7.2, 3.6, 6.1, 2.5],\n",
       "        [5.8, 2.7, 5.1, 1.9],\n",
       "        [6. , 2.2, 5. , 1.5],\n",
       "        [7.3, 2.9, 6.3, 1.8],\n",
       "        [6.7, 2.5, 5.8, 1.8],\n",
       "        [6.9, 3.2, 5.7, 2.3],\n",
       "        [6.1, 2.6, 5.6, 1.4],\n",
       "        [5.4, 3. , 4.5, 1.5],\n",
       "        [7.9, 3.8, 6.4, 2. ],\n",
       "        [5.8, 2.7, 3.9, 1.2],\n",
       "        [6.3, 3.3, 6. , 2.5],\n",
       "        [7.7, 2.6, 6.9, 2.3],\n",
       "        [5.1, 2.5, 3. , 1.1],\n",
       "        [5.6, 2.7, 4.2, 1.3],\n",
       "        [6. , 3. , 4.8, 1.8],\n",
       "        [5. , 2. , 3.5, 1. ],\n",
       "        [6.6, 3. , 4.4, 1.4],\n",
       "        [5.8, 2.6, 4. , 1.2],\n",
       "        [6.3, 3.3, 4.7, 1.6],\n",
       "        [7.2, 3.2, 6. , 1.8],\n",
       "        [6.9, 3.1, 5.4, 2.1],\n",
       "        [6.1, 3. , 4.6, 1.4],\n",
       "        [7.1, 3. , 5.9, 2.1],\n",
       "        [6.9, 3.1, 5.1, 2.3],\n",
       "        [6.8, 2.8, 4.8, 1.4],\n",
       "        [6.7, 3.3, 5.7, 2.5],\n",
       "        [7. , 3.2, 4.7, 1.4],\n",
       "        [5.7, 2.9, 4.2, 1.3],\n",
       "        [7.7, 3.8, 6.7, 2.2],\n",
       "        [7.2, 3. , 5.8, 1.6],\n",
       "        [6.1, 2.9, 4.7, 1.4],\n",
       "        [5.7, 2.8, 4.5, 1.3],\n",
       "        [6.3, 2.9, 5.6, 1.8],\n",
       "        [6.7, 3. , 5.2, 2.3],\n",
       "        [4.9, 2.4, 3.3, 1. ],\n",
       "        [7.7, 3. , 6.1, 2.3],\n",
       "        [6.7, 3.1, 4.4, 1.4],\n",
       "        [6.9, 3.1, 4.9, 1.5],\n",
       "        [7.7, 2.8, 6.7, 2. ],\n",
       "        [6.4, 3.2, 4.5, 1.5],\n",
       "        [6.7, 3.1, 5.6, 2.4],\n",
       "        [6.4, 3.1, 5.5, 1.8],\n",
       "        [5.8, 2.7, 4.1, 1. ],\n",
       "        [6.3, 3.4, 5.6, 2.4],\n",
       "        [5.7, 2.6, 3.5, 1. ],\n",
       "        [6.4, 2.7, 5.3, 1.9],\n",
       "        [6.3, 2.8, 5.1, 1.5],\n",
       "        [5.6, 3. , 4.5, 1.5],\n",
       "        [6.4, 2.8, 5.6, 2.1],\n",
       "        [6.8, 3.2, 5.9, 2.3],\n",
       "        [5.8, 2.8, 5.1, 2.4],\n",
       "        [6.4, 3.2, 5.3, 2.3],\n",
       "        [6.6, 2.9, 4.6, 1.3],\n",
       "        [6.7, 3. , 5. , 1.7],\n",
       "        [5.5, 2.3, 4. , 1.3],\n",
       "        [5.9, 3. , 4.2, 1.5],\n",
       "        [6. , 2.2, 4. , 1. ],\n",
       "        [6.2, 3.4, 5.4, 2.3],\n",
       "        [7.4, 2.8, 6.1, 1.9],\n",
       "        [6.3, 2.7, 4.9, 1.8],\n",
       "        [6.5, 3. , 5.8, 2.2],\n",
       "        [6.5, 3. , 5.5, 1.8],\n",
       "        [6.7, 3.3, 5.7, 2.1],\n",
       "        [6. , 3.4, 4.5, 1.6],\n",
       "        [5.5, 2.6, 4.4, 1.2],\n",
       "        [5.2, 2.7, 3.9, 1.4],\n",
       "        [6. , 2.9, 4.5, 1.5],\n",
       "        [6.1, 2.8, 4.7, 1.2],\n",
       "        [6.5, 3.2, 5.1, 2. ],\n",
       "        [5.6, 2.9, 3.6, 1.3],\n",
       "        [6.5, 2.8, 4.6, 1.5],\n",
       "        [5.6, 2.5, 3.9, 1.1],\n",
       "        [5.7, 2.8, 4.1, 1.3],\n",
       "        [6.7, 3.1, 4.7, 1.5],\n",
       "        [6.2, 2.2, 4.5, 1.5],\n",
       "        [7.6, 3. , 6.6, 2.1],\n",
       "        [5.8, 2.7, 5.1, 1.9]]),\n",
       " 'y_left': array([0, 0, 0, 0, 0, 0, 0, 0, 0, 0, 0, 0, 0, 0, 0, 0, 0, 0, 0, 0, 0, 0,\n",
       "        0, 0, 0, 0, 0, 0, 0, 0, 0, 0, 0, 0, 0, 0, 0, 0, 0, 0, 0, 0]),\n",
       " 'y_right': array([1, 2, 2, 2, 2, 2, 2, 2, 1, 2, 1, 2, 2, 1, 1, 2, 1, 1, 1, 1, 2, 2,\n",
       "        1, 2, 2, 1, 2, 1, 1, 2, 2, 1, 1, 2, 2, 1, 2, 1, 1, 2, 1, 2, 2, 1,\n",
       "        2, 1, 2, 2, 1, 2, 2, 2, 2, 1, 1, 1, 1, 1, 2, 2, 2, 2, 2, 2, 1, 1,\n",
       "        1, 1, 1, 2, 1, 1, 1, 1, 1, 1, 2, 2]),\n",
       " 'information_gain': 0.3413247863247863}"
      ]
     },
     "execution_count": 11,
     "metadata": {},
     "output_type": "execute_result"
    }
   ],
   "source": [
    "dt.get_best_split(X_train, y_train)"
   ]
  },
  {
   "cell_type": "code",
   "execution_count": 12,
   "id": "1303d113-a6ef-47e3-b028-3d0b8ef9556f",
   "metadata": {
    "execution": {
     "iopub.execute_input": "2025-02-21T19:46:13.243306Z",
     "iopub.status.busy": "2025-02-21T19:46:13.243232Z",
     "iopub.status.idle": "2025-02-21T19:46:13.244665Z",
     "shell.execute_reply": "2025-02-21T19:46:13.244466Z",
     "shell.execute_reply.started": "2025-02-21T19:46:13.243300Z"
    }
   },
   "outputs": [
    {
     "name": "stdout",
     "output_type": "stream",
     "text": [
      " Level 0 ---> Feature index 2 with threshold 2.311111111111111 and IG 0.3413247863247863.\n",
      "   left\n",
      "   Leaf value 0\n",
      "   right\n",
      "   Level 1 ---> Feature index 2 with threshold 4.733333333333333 and IG 0.4281149182759201.\n",
      "     left\n",
      "     Leaf value 1\n",
      "     right\n",
      "     Level 2 ---> Feature index 2 with threshold 5.033333333333333 and IG 0.06003244997295844.\n",
      "       left\n",
      "       Leaf value 2\n",
      "       right\n",
      "       Leaf value 2\n"
     ]
    }
   ],
   "source": [
    "dt.print_tree()"
   ]
  },
  {
   "cell_type": "code",
   "execution_count": 13,
   "id": "ebb4fc27-4163-4894-95e0-a0705fc8408f",
   "metadata": {
    "execution": {
     "iopub.execute_input": "2025-02-21T19:46:13.244983Z",
     "iopub.status.busy": "2025-02-21T19:46:13.244919Z",
     "iopub.status.idle": "2025-02-21T19:46:13.246609Z",
     "shell.execute_reply": "2025-02-21T19:46:13.246381Z",
     "shell.execute_reply.started": "2025-02-21T19:46:13.244976Z"
    }
   },
   "outputs": [],
   "source": [
    "y_pred = dt.predict(X_test)"
   ]
  },
  {
   "cell_type": "code",
   "execution_count": 14,
   "id": "9fac1021-e5fc-4834-a29e-99505e989f03",
   "metadata": {
    "execution": {
     "iopub.execute_input": "2025-02-21T19:46:13.247210Z",
     "iopub.status.busy": "2025-02-21T19:46:13.247125Z",
     "iopub.status.idle": "2025-02-21T19:46:13.249787Z",
     "shell.execute_reply": "2025-02-21T19:46:13.249547Z",
     "shell.execute_reply.started": "2025-02-21T19:46:13.247203Z"
    }
   },
   "outputs": [
    {
     "data": {
      "text/plain": [
       "array([[8, 0, 0],\n",
       "       [0, 9, 3],\n",
       "       [0, 1, 9]])"
      ]
     },
     "execution_count": 14,
     "metadata": {},
     "output_type": "execute_result"
    }
   ],
   "source": [
    "confusion_matrix(y_test, y_pred)"
   ]
  },
  {
   "cell_type": "code",
   "execution_count": null,
   "id": "bbdc8345-36b1-4278-9ead-f678952fbc64",
   "metadata": {},
   "outputs": [],
   "source": []
  },
  {
   "cell_type": "code",
   "execution_count": null,
   "id": "c0c83e92-3920-4cd2-ba32-c037815e51e0",
   "metadata": {},
   "outputs": [],
   "source": []
  }
 ],
 "metadata": {
  "kernelspec": {
   "display_name": "Python 3 (ipykernel)",
   "language": "python",
   "name": "python3"
  },
  "language_info": {
   "codemirror_mode": {
    "name": "ipython",
    "version": 3
   },
   "file_extension": ".py",
   "mimetype": "text/x-python",
   "name": "python",
   "nbconvert_exporter": "python",
   "pygments_lexer": "ipython3",
   "version": "3.12.8"
  }
 },
 "nbformat": 4,
 "nbformat_minor": 5
}
